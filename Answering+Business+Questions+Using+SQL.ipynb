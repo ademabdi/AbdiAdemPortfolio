{
 "cells": [
  {
   "cell_type": "markdown",
   "metadata": {},
   "source": [
    "# Answering Business Questions Using SQL"
   ]
  },
  {
   "cell_type": "markdown",
   "metadata": {},
   "source": [
    "In this project, we will be looking at a database containing information for a fictional digital music shop called Chinook. The database schema are as follows:\n",
    "\n",
    "![Database Schema](C:\\Users\\abdi-\\OneDrive\\Pictures\\databaseschema.png)\n",
    "\n",
    "We will be answering business questions regarding the information in the database, such as:\n",
    "\n",
    "* what type of genre sells the most?\n",
    "* which sales agent has the most sales?\n",
    "* what country has the best sales?\n",
    "* are albums purchased more, or are individual tracks purchased more?\n",
    "\n",
    "Our conclusions will give recommendations based on our findings to increase sales, and improve overall business strategy for Chinook."
   ]
  },
  {
   "cell_type": "markdown",
   "metadata": {},
   "source": [
    "# Loading & Selecting Database"
   ]
  },
  {
   "cell_type": "code",
   "execution_count": 66,
   "metadata": {
    "collapsed": false
   },
   "outputs": [
    {
     "data": {
      "text/plain": [
       "'Connected: None@chinook.db'"
      ]
     },
     "execution_count": 66,
     "metadata": {},
     "output_type": "execute_result"
    }
   ],
   "source": [
    "%%capture\n",
    "%load_ext sql\n",
    "%sql sqlite:///chinook.db"
   ]
  },
  {
   "cell_type": "code",
   "execution_count": 67,
   "metadata": {
    "collapsed": false
   },
   "outputs": [
    {
     "name": "stdout",
     "output_type": "stream",
     "text": [
      "Done.\n"
     ]
    },
    {
     "data": {
      "text/html": [
       "<table>\n",
       "    <tr>\n",
       "        <th>name</th>\n",
       "        <th>type</th>\n",
       "    </tr>\n",
       "    <tr>\n",
       "        <td>album</td>\n",
       "        <td>table</td>\n",
       "    </tr>\n",
       "    <tr>\n",
       "        <td>artist</td>\n",
       "        <td>table</td>\n",
       "    </tr>\n",
       "    <tr>\n",
       "        <td>customer</td>\n",
       "        <td>table</td>\n",
       "    </tr>\n",
       "    <tr>\n",
       "        <td>employee</td>\n",
       "        <td>table</td>\n",
       "    </tr>\n",
       "    <tr>\n",
       "        <td>genre</td>\n",
       "        <td>table</td>\n",
       "    </tr>\n",
       "    <tr>\n",
       "        <td>invoice</td>\n",
       "        <td>table</td>\n",
       "    </tr>\n",
       "    <tr>\n",
       "        <td>invoice_line</td>\n",
       "        <td>table</td>\n",
       "    </tr>\n",
       "    <tr>\n",
       "        <td>media_type</td>\n",
       "        <td>table</td>\n",
       "    </tr>\n",
       "    <tr>\n",
       "        <td>playlist</td>\n",
       "        <td>table</td>\n",
       "    </tr>\n",
       "    <tr>\n",
       "        <td>playlist_track</td>\n",
       "        <td>table</td>\n",
       "    </tr>\n",
       "    <tr>\n",
       "        <td>track</td>\n",
       "        <td>table</td>\n",
       "    </tr>\n",
       "</table>"
      ],
      "text/plain": [
       "[('album', 'table'),\n",
       " ('artist', 'table'),\n",
       " ('customer', 'table'),\n",
       " ('employee', 'table'),\n",
       " ('genre', 'table'),\n",
       " ('invoice', 'table'),\n",
       " ('invoice_line', 'table'),\n",
       " ('media_type', 'table'),\n",
       " ('playlist', 'table'),\n",
       " ('playlist_track', 'table'),\n",
       " ('track', 'table')]"
      ]
     },
     "execution_count": 67,
     "metadata": {},
     "output_type": "execute_result"
    }
   ],
   "source": [
    "%%sql\n",
    "SELECT\n",
    "    name,\n",
    "    type\n",
    "FROM sqlite_master\n",
    "WHERE type IN (\"table\",\"view\");"
   ]
  },
  {
   "cell_type": "markdown",
   "metadata": {},
   "source": [
    "# Selecting Genre of Albums to Purchase"
   ]
  },
  {
   "cell_type": "markdown",
   "metadata": {},
   "source": [
    "We have been given a list of potential artists albums to add to the Chinook record store shown as follows:\n",
    "\n",
    "![New Artists](C:\\Users\\abdi-\\OneDrive\\Pictures\\newartists.png)\n",
    "\n",
    "Based on which genre of music is most popular at Chinook, we will determine which of the new artists albums will be added."
   ]
  },
  {
   "cell_type": "code",
   "execution_count": 68,
   "metadata": {
    "collapsed": false
   },
   "outputs": [
    {
     "name": "stdout",
     "output_type": "stream",
     "text": [
      "Done.\n"
     ]
    },
    {
     "data": {
      "text/html": [
       "<table>\n",
       "    <tr>\n",
       "        <th>genre</th>\n",
       "        <th>tracks_sold</th>\n",
       "        <th>percentage</th>\n",
       "    </tr>\n",
       "    <tr>\n",
       "        <td>Rock</td>\n",
       "        <td>561</td>\n",
       "        <td>0.5338</td>\n",
       "    </tr>\n",
       "    <tr>\n",
       "        <td>Alternative &amp; Punk</td>\n",
       "        <td>130</td>\n",
       "        <td>0.1237</td>\n",
       "    </tr>\n",
       "    <tr>\n",
       "        <td>Metal</td>\n",
       "        <td>124</td>\n",
       "        <td>0.118</td>\n",
       "    </tr>\n",
       "    <tr>\n",
       "        <td>R&amp;B/Soul</td>\n",
       "        <td>53</td>\n",
       "        <td>0.0504</td>\n",
       "    </tr>\n",
       "    <tr>\n",
       "        <td>Blues</td>\n",
       "        <td>36</td>\n",
       "        <td>0.0343</td>\n",
       "    </tr>\n",
       "    <tr>\n",
       "        <td>Alternative</td>\n",
       "        <td>35</td>\n",
       "        <td>0.0333</td>\n",
       "    </tr>\n",
       "    <tr>\n",
       "        <td>Latin</td>\n",
       "        <td>22</td>\n",
       "        <td>0.0209</td>\n",
       "    </tr>\n",
       "    <tr>\n",
       "        <td>Pop</td>\n",
       "        <td>22</td>\n",
       "        <td>0.0209</td>\n",
       "    </tr>\n",
       "    <tr>\n",
       "        <td>Hip Hop/Rap</td>\n",
       "        <td>20</td>\n",
       "        <td>0.019</td>\n",
       "    </tr>\n",
       "    <tr>\n",
       "        <td>Jazz</td>\n",
       "        <td>14</td>\n",
       "        <td>0.0133</td>\n",
       "    </tr>\n",
       "    <tr>\n",
       "        <td>Easy Listening</td>\n",
       "        <td>13</td>\n",
       "        <td>0.0124</td>\n",
       "    </tr>\n",
       "    <tr>\n",
       "        <td>Reggae</td>\n",
       "        <td>6</td>\n",
       "        <td>0.0057</td>\n",
       "    </tr>\n",
       "    <tr>\n",
       "        <td>Electronica/Dance</td>\n",
       "        <td>5</td>\n",
       "        <td>0.0048</td>\n",
       "    </tr>\n",
       "    <tr>\n",
       "        <td>Classical</td>\n",
       "        <td>4</td>\n",
       "        <td>0.0038</td>\n",
       "    </tr>\n",
       "    <tr>\n",
       "        <td>Heavy Metal</td>\n",
       "        <td>3</td>\n",
       "        <td>0.0029</td>\n",
       "    </tr>\n",
       "    <tr>\n",
       "        <td>Soundtrack</td>\n",
       "        <td>2</td>\n",
       "        <td>0.0019</td>\n",
       "    </tr>\n",
       "    <tr>\n",
       "        <td>TV Shows</td>\n",
       "        <td>1</td>\n",
       "        <td>0.001</td>\n",
       "    </tr>\n",
       "</table>"
      ],
      "text/plain": [
       "[('Rock', 561, 0.5338),\n",
       " ('Alternative & Punk', 130, 0.1237),\n",
       " ('Metal', 124, 0.118),\n",
       " ('R&B/Soul', 53, 0.0504),\n",
       " ('Blues', 36, 0.0343),\n",
       " ('Alternative', 35, 0.0333),\n",
       " ('Latin', 22, 0.0209),\n",
       " ('Pop', 22, 0.0209),\n",
       " ('Hip Hop/Rap', 20, 0.019),\n",
       " ('Jazz', 14, 0.0133),\n",
       " ('Easy Listening', 13, 0.0124),\n",
       " ('Reggae', 6, 0.0057),\n",
       " ('Electronica/Dance', 5, 0.0048),\n",
       " ('Classical', 4, 0.0038),\n",
       " ('Heavy Metal', 3, 0.0029),\n",
       " ('Soundtrack', 2, 0.0019),\n",
       " ('TV Shows', 1, 0.001)]"
      ]
     },
     "execution_count": 68,
     "metadata": {},
     "output_type": "execute_result"
    }
   ],
   "source": [
    "%%sql\n",
    "\n",
    "WITH usacountry AS\n",
    "     (\n",
    "      SELECT *\n",
    "         FROM customer\n",
    "      WHERE country LIKE '%USA%'\n",
    "     ),\n",
    "     usatotal AS\n",
    "     (\n",
    "      SELECT *\n",
    "         FROM usacountry uc\n",
    "      INNER JOIN invoice i ON i.customer_id = uc.customer_id\n",
    "     ),\n",
    "     usagenre AS\n",
    "     (\n",
    "      SELECT g.name genre, il.invoice_id invoice_id\n",
    "      FROM usatotal ut\n",
    "      INNER JOIN invoice_line il ON il.invoice_id = ut.invoice_id\n",
    "      INNER JOIN track t ON t.track_id = il.track_id \n",
    "      INNER JOIN genre g ON g.genre_id = t.genre_id\n",
    "     )   \n",
    "     \n",
    "\n",
    "SELECT genre,\n",
    "       COUNT(invoice_id) tracks_sold, \n",
    "       ROUND(CAST(COUNT(invoice_id) AS FLOAT)/(SELECT COUNT(*) FROM usagenre),4) percentage\n",
    "FROM usagenre ug\n",
    "GROUP BY genre\n",
    "ORDER BY 2 DESC\n",
    "LIMIT 20;"
   ]
  },
  {
   "cell_type": "markdown",
   "metadata": {},
   "source": [
    "The most popular genres of music that is sold in the USA based on number of tracks sold are Rock (~ 53.4% of tracks sold), Alternative & Punk (~ 12.4% of tracks sold), and Metal (~ 11.8% of tracks sold). The artists from the record label produce music in the following genres:\n",
    "    \n",
    "* Hip-Hop\n",
    "* Punk\n",
    "* Pop\n",
    "* Blues\n",
    "\n",
    "Of the four genres, Punk (2nd at ~ 12,4%), the Blues (5th at ~ 3.4%), and Pop (8th at ~ 2.1%)are the most popular genres, so therefore we should purchase albums from the artists Red Tone, Slim Jim Bites, and Meteor and the Girls. "
   ]
  },
  {
   "cell_type": "markdown",
   "metadata": {
    "collapsed": true
   },
   "source": [
    "# Amount of Sales ($) per Agent"
   ]
  },
  {
   "cell_type": "code",
   "execution_count": 69,
   "metadata": {
    "collapsed": false
   },
   "outputs": [
    {
     "name": "stdout",
     "output_type": "stream",
     "text": [
      "Done.\n"
     ]
    },
    {
     "data": {
      "text/html": [
       "<table>\n",
       "    <tr>\n",
       "        <th>employee_name</th>\n",
       "        <th>dollar_amount_sales</th>\n",
       "        <th>hire_date</th>\n",
       "    </tr>\n",
       "    <tr>\n",
       "        <td>Jane Peacock</td>\n",
       "        <td>1731.51</td>\n",
       "        <td>2017-04-01 00:00:00</td>\n",
       "    </tr>\n",
       "    <tr>\n",
       "        <td>Margaret Park</td>\n",
       "        <td>1584.0</td>\n",
       "        <td>2017-05-03 00:00:00</td>\n",
       "    </tr>\n",
       "    <tr>\n",
       "        <td>Steve Johnson</td>\n",
       "        <td>1393.92</td>\n",
       "        <td>2017-10-17 00:00:00</td>\n",
       "    </tr>\n",
       "</table>"
      ],
      "text/plain": [
       "[('Jane Peacock', 1731.51, '2017-04-01 00:00:00'),\n",
       " ('Margaret Park', 1584.0, '2017-05-03 00:00:00'),\n",
       " ('Steve Johnson', 1393.92, '2017-10-17 00:00:00')]"
      ]
     },
     "execution_count": 69,
     "metadata": {},
     "output_type": "execute_result"
    }
   ],
   "source": [
    "%%sql\n",
    "\n",
    "SELECT e.first_name || ' ' || e.last_name employee_name,\n",
    "       ROUND(SUM(i.total),2) dollar_amount_sales, \n",
    "       e.hire_date \n",
    "FROM customer c\n",
    "INNER JOIN employee e ON e.employee_id = c.support_rep_id\n",
    "INNER JOIN invoice i ON i.customer_id = c.customer_id\n",
    "GROUP BY support_rep_id\n",
    "LIMIT 5;"
   ]
  },
  {
   "cell_type": "markdown",
   "metadata": {},
   "source": [
    "Given that Jane Peacock, the highest selling agent, was hired the earliest, and Steve Johnson, the lowest selling agent, was hired the most recent, it makes logical sense for the ranking shown."
   ]
  },
  {
   "cell_type": "markdown",
   "metadata": {},
   "source": [
    "# Analyzing Sales by Country"
   ]
  },
  {
   "cell_type": "code",
   "execution_count": 70,
   "metadata": {
    "collapsed": false
   },
   "outputs": [
    {
     "name": "stdout",
     "output_type": "stream",
     "text": [
      "Done.\n"
     ]
    },
    {
     "data": {
      "text/html": [
       "<table>\n",
       "    <tr>\n",
       "        <th>country</th>\n",
       "        <th>total_customers</th>\n",
       "        <th>total_sales</th>\n",
       "        <th>average_sales_value</th>\n",
       "        <th>average_order_value</th>\n",
       "    </tr>\n",
       "    <tr>\n",
       "        <td>USA</td>\n",
       "        <td>13</td>\n",
       "        <td>1040.49</td>\n",
       "        <td>80.04</td>\n",
       "        <td>7.94</td>\n",
       "    </tr>\n",
       "    <tr>\n",
       "        <td>Canada</td>\n",
       "        <td>8</td>\n",
       "        <td>535.59</td>\n",
       "        <td>66.95</td>\n",
       "        <td>7.05</td>\n",
       "    </tr>\n",
       "    <tr>\n",
       "        <td>Brazil</td>\n",
       "        <td>5</td>\n",
       "        <td>427.68</td>\n",
       "        <td>85.54</td>\n",
       "        <td>7.01</td>\n",
       "    </tr>\n",
       "    <tr>\n",
       "        <td>France</td>\n",
       "        <td>5</td>\n",
       "        <td>389.07</td>\n",
       "        <td>77.81</td>\n",
       "        <td>7.78</td>\n",
       "    </tr>\n",
       "    <tr>\n",
       "        <td>Germany</td>\n",
       "        <td>4</td>\n",
       "        <td>334.62</td>\n",
       "        <td>83.66</td>\n",
       "        <td>8.16</td>\n",
       "    </tr>\n",
       "    <tr>\n",
       "        <td>Czech Republic</td>\n",
       "        <td>2</td>\n",
       "        <td>273.24</td>\n",
       "        <td>136.62</td>\n",
       "        <td>9.11</td>\n",
       "    </tr>\n",
       "    <tr>\n",
       "        <td>United Kingdom</td>\n",
       "        <td>3</td>\n",
       "        <td>245.52</td>\n",
       "        <td>81.84</td>\n",
       "        <td>8.77</td>\n",
       "    </tr>\n",
       "    <tr>\n",
       "        <td>Portugal</td>\n",
       "        <td>2</td>\n",
       "        <td>185.13</td>\n",
       "        <td>92.57</td>\n",
       "        <td>6.38</td>\n",
       "    </tr>\n",
       "    <tr>\n",
       "        <td>India</td>\n",
       "        <td>2</td>\n",
       "        <td>183.15</td>\n",
       "        <td>91.57</td>\n",
       "        <td>8.72</td>\n",
       "    </tr>\n",
       "    <tr>\n",
       "        <td>Other</td>\n",
       "        <td>15</td>\n",
       "        <td>1094.94</td>\n",
       "        <td>73.0</td>\n",
       "        <td>7.45</td>\n",
       "    </tr>\n",
       "</table>"
      ],
      "text/plain": [
       "[('USA', 13, 1040.49, 80.04, 7.94),\n",
       " ('Canada', 8, 535.59, 66.95, 7.05),\n",
       " ('Brazil', 5, 427.68, 85.54, 7.01),\n",
       " ('France', 5, 389.07, 77.81, 7.78),\n",
       " ('Germany', 4, 334.62, 83.66, 8.16),\n",
       " ('Czech Republic', 2, 273.24, 136.62, 9.11),\n",
       " ('United Kingdom', 3, 245.52, 81.84, 8.77),\n",
       " ('Portugal', 2, 185.13, 92.57, 6.38),\n",
       " ('India', 2, 183.15, 91.57, 8.72),\n",
       " ('Other', 15, 1094.94, 73.0, 7.45)]"
      ]
     },
     "execution_count": 70,
     "metadata": {},
     "output_type": "execute_result"
    }
   ],
   "source": [
    "%%sql\n",
    "\n",
    "\n",
    "WITH country_select AS\n",
    "      (\n",
    "       SELECT\n",
    "           CASE WHEN (SELECT COUNT(*) FROM customer WHERE country = c.country) = 1\n",
    "           THEN 'Other' ELSE c.country\n",
    "           END AS country,\n",
    "           c.customer_id,\n",
    "           i.*\n",
    "        FROM customer c\n",
    "        INNER JOIN invoice i ON i.customer_id = c.customer_id\n",
    "      )\n",
    "    \n",
    "SELECT country,\n",
    "       COUNT(DISTINCT(customer_id)) total_customers,\n",
    "       ROUND(SUM(total),2) total_sales,\n",
    "       ROUND(SUM(total)/COUNT(DISTINCT(customer_id)),2) average_sales_value,\n",
    "       ROUND(SUM(total)/COUNT(DISTINCT(invoice_id)),2) average_order_value\n",
    "FROM country_select\n",
    "GROUP BY country\n",
    "ORDER BY CASE WHEN country = 'Other' THEN 1 ELSE 0 END,total_sales DESC\n",
    "\n"
   ]
  },
  {
   "cell_type": "markdown",
   "metadata": {
    "collapsed": true
   },
   "source": [
    "The top 3 countries by total sales are the US, Canada, and Brazil. The Czech Republic seems promising as the average sales value and average order value are the highest out of any country."
   ]
  },
  {
   "cell_type": "markdown",
   "metadata": {},
   "source": [
    "# Albums vs Individual Tracks"
   ]
  },
  {
   "cell_type": "code",
   "execution_count": 71,
   "metadata": {
    "collapsed": false
   },
   "outputs": [
    {
     "name": "stdout",
     "output_type": "stream",
     "text": [
      "Done.\n"
     ]
    },
    {
     "data": {
      "text/html": [
       "<table>\n",
       "    <tr>\n",
       "        <th>album_purchase</th>\n",
       "        <th>number_of_invoices</th>\n",
       "        <th>percent</th>\n",
       "    </tr>\n",
       "    <tr>\n",
       "        <td>album purchase</td>\n",
       "        <td>114</td>\n",
       "        <td>18.566775244299674</td>\n",
       "    </tr>\n",
       "    <tr>\n",
       "        <td>not album purchase</td>\n",
       "        <td>500</td>\n",
       "        <td>81.43322475570032</td>\n",
       "    </tr>\n",
       "</table>"
      ],
      "text/plain": [
       "[('album purchase', 114, 18.566775244299674),\n",
       " ('not album purchase', 500, 81.43322475570032)]"
      ]
     },
     "execution_count": 71,
     "metadata": {},
     "output_type": "execute_result"
    }
   ],
   "source": [
    "%%sql\n",
    "\n",
    "WITH invoicealbums AS\n",
    "    (\n",
    "     SELECT t.album_id,\n",
    "            il.track_id,\n",
    "            il.invoice_id invoice_id\n",
    "     FROM invoice_line il\n",
    "     LEFT JOIN track t ON t.track_id = il.track_id\n",
    "     GROUP BY 1,2,3\n",
    "    ),\n",
    "    \n",
    "    albums as (\n",
    "        SELECT  t.album_id albums_id,\n",
    "                t.track_id tracks_id\n",
    "        FROM track t\n",
    "        GROUP BY 1,2\n",
    "    ),\n",
    "    \n",
    "    invoicetracks AS\n",
    "    (\n",
    "     SELECT CASE WHEN COUNT(DISTINCT albums_id) = 1 \n",
    "     AND COUNT(DISTINCT(ia.track_id)) = COUNT(DISTINCT(tracks_id))\n",
    "     THEN 'album purchase' \n",
    "     ELSE 'not album purchase'\n",
    "     END AS album_purchase,\n",
    "     invoice_id\n",
    "     FROM invoicealbums ia\n",
    "     LEFT JOIN albums a ON a.albums_id = ia.album_id\n",
    "     GROUP BY ia.invoice_id\n",
    "    )\n",
    "    \n",
    "SELECT album_purchase,\n",
    "       COUNT(invoice_id) number_of_invoices,\n",
    "       CAST(COUNT(invoice_id) AS FLOAT) / (SELECT COUNT(*) FROM invoicetracks) * 100 percent\n",
    "FROM invoicetracks\n",
    "GROUP BY album_purchase"
   ]
  },
  {
   "cell_type": "markdown",
   "metadata": {},
   "source": [
    "Most of the invoices (500) are individual track purchases, while only 114 invoices are full album purchases. This indicates more attention should be made towards purchasing popular tracks from artists for Chinook rather than full albums."
   ]
  },
  {
   "cell_type": "markdown",
   "metadata": {},
   "source": [
    "# Top Artist"
   ]
  },
  {
   "cell_type": "code",
   "execution_count": 72,
   "metadata": {
    "collapsed": false
   },
   "outputs": [
    {
     "name": "stdout",
     "output_type": "stream",
     "text": [
      "Done.\n"
     ]
    },
    {
     "data": {
      "text/html": [
       "<table>\n",
       "    <tr>\n",
       "        <th>artist</th>\n",
       "        <th>frequency</th>\n",
       "        <th>genre</th>\n",
       "    </tr>\n",
       "    <tr>\n",
       "        <td>Iron Maiden</td>\n",
       "        <td>516</td>\n",
       "        <td>Metal</td>\n",
       "    </tr>\n",
       "    <tr>\n",
       "        <td>U2</td>\n",
       "        <td>333</td>\n",
       "        <td>Pop</td>\n",
       "    </tr>\n",
       "    <tr>\n",
       "        <td>Metallica</td>\n",
       "        <td>296</td>\n",
       "        <td>Metal</td>\n",
       "    </tr>\n",
       "    <tr>\n",
       "        <td>Led Zeppelin</td>\n",
       "        <td>252</td>\n",
       "        <td>Rock</td>\n",
       "    </tr>\n",
       "    <tr>\n",
       "        <td>Deep Purple</td>\n",
       "        <td>226</td>\n",
       "        <td>Rock</td>\n",
       "    </tr>\n",
       "    <tr>\n",
       "        <td>Lost</td>\n",
       "        <td>184</td>\n",
       "        <td>Drama</td>\n",
       "    </tr>\n",
       "    <tr>\n",
       "        <td>Pearl Jam</td>\n",
       "        <td>177</td>\n",
       "        <td>Rock</td>\n",
       "    </tr>\n",
       "    <tr>\n",
       "        <td>Eric Clapton</td>\n",
       "        <td>145</td>\n",
       "        <td>Latin</td>\n",
       "    </tr>\n",
       "    <tr>\n",
       "        <td>Faith No More</td>\n",
       "        <td>145</td>\n",
       "        <td>Alternative &amp; Punk</td>\n",
       "    </tr>\n",
       "    <tr>\n",
       "        <td>Lenny Kravitz</td>\n",
       "        <td>143</td>\n",
       "        <td>Metal</td>\n",
       "    </tr>\n",
       "</table>"
      ],
      "text/plain": [
       "[('Iron Maiden', 516, 'Metal'),\n",
       " ('U2', 333, 'Pop'),\n",
       " ('Metallica', 296, 'Metal'),\n",
       " ('Led Zeppelin', 252, 'Rock'),\n",
       " ('Deep Purple', 226, 'Rock'),\n",
       " ('Lost', 184, 'Drama'),\n",
       " ('Pearl Jam', 177, 'Rock'),\n",
       " ('Eric Clapton', 145, 'Latin'),\n",
       " ('Faith No More', 145, 'Alternative & Punk'),\n",
       " ('Lenny Kravitz', 143, 'Metal')]"
      ]
     },
     "execution_count": 72,
     "metadata": {},
     "output_type": "execute_result"
    }
   ],
   "source": [
    "%%sql\n",
    "\n",
    "WITH track_num AS\n",
    "    (\n",
    "     SELECT ar.name name, \n",
    "            g.name genre,\n",
    "            * \n",
    "     FROM track t\n",
    "     INNER JOIN playlist_track p ON p.track_id = t.track_id\n",
    "     INNER JOIN album a ON a.album_id = t.album_id\n",
    "     INNER JOIN artist ar ON ar.artist_id = a.artist_id\n",
    "     INNER JOIN genre g ON g.genre_id = t.genre_id\n",
    "    )\n",
    "\n",
    "SELECT \n",
    "    name artist,\n",
    "    COUNT(name) frequency,\n",
    "    genre \n",
    "FROM track_num\n",
    "GROUP BY name\n",
    "ORDER BY frequency DESC\n",
    "LIMIT 10"
   ]
  },
  {
   "cell_type": "markdown",
   "metadata": {},
   "source": [
    "With the top 10 artists by frequency throughout all 18 playlists shown, we can see that Iron Maiden, U2, and Metallica are the 3 most popular artists. This is a good reference point for determining which artists tracks/albums to purchase for Chinook."
   ]
  },
  {
   "cell_type": "markdown",
   "metadata": {},
   "source": [
    "# Purchased vs Not Purchased"
   ]
  },
  {
   "cell_type": "code",
   "execution_count": 73,
   "metadata": {
    "collapsed": false
   },
   "outputs": [
    {
     "name": "stdout",
     "output_type": "stream",
     "text": [
      "Done.\n"
     ]
    },
    {
     "data": {
      "text/html": [
       "<table>\n",
       "    <tr>\n",
       "        <th>track_purchased</th>\n",
       "        <th>num_tracks</th>\n",
       "    </tr>\n",
       "    <tr>\n",
       "        <td>no</td>\n",
       "        <td>1697</td>\n",
       "    </tr>\n",
       "    <tr>\n",
       "        <td>yes</td>\n",
       "        <td>4757</td>\n",
       "    </tr>\n",
       "</table>"
      ],
      "text/plain": [
       "[('no', 1697), ('yes', 4757)]"
      ]
     },
     "execution_count": 73,
     "metadata": {},
     "output_type": "execute_result"
    }
   ],
   "source": [
    "%%sql\n",
    "\n",
    "SELECT\n",
    "    CASE WHEN il.track_id = t.track_id THEN 'yes' \n",
    "    ELSE 'no'\n",
    "    END AS track_purchased,\n",
    "    COUNT(t.track_id) num_tracks\n",
    "FROM track t\n",
    "LEFT JOIN invoice_line il ON il.track_id = t.track_id\n",
    "GROUP BY track_purchased\n",
    "\n"
   ]
  },
  {
   "cell_type": "markdown",
   "metadata": {},
   "source": [
    "4757 tracks have been purchase while only 1697 tracks have not. We will explore the tracks that have not been purchased and compare them to see the differences in popularity. "
   ]
  },
  {
   "cell_type": "markdown",
   "metadata": {},
   "source": [
    "# Non-purchased Tracks"
   ]
  },
  {
   "cell_type": "code",
   "execution_count": 74,
   "metadata": {
    "collapsed": false,
    "scrolled": true
   },
   "outputs": [
    {
     "name": "stdout",
     "output_type": "stream",
     "text": [
      "Done.\n"
     ]
    },
    {
     "data": {
      "text/html": [
       "<table>\n",
       "    <tr>\n",
       "        <th>num_tracks</th>\n",
       "        <th>album</th>\n",
       "        <th>artist</th>\n",
       "        <th>playlist</th>\n",
       "    </tr>\n",
       "    <tr>\n",
       "        <td>33</td>\n",
       "        <td>Greatest Hits</td>\n",
       "        <td>Lenny Kravitz</td>\n",
       "        <td>Music</td>\n",
       "    </tr>\n",
       "    <tr>\n",
       "        <td>25</td>\n",
       "        <td>Minha Historia</td>\n",
       "        <td>Chico Buarque</td>\n",
       "        <td>Music</td>\n",
       "    </tr>\n",
       "    <tr>\n",
       "        <td>25</td>\n",
       "        <td>Lost, Season 3</td>\n",
       "        <td>Lost</td>\n",
       "        <td>TV Shows</td>\n",
       "    </tr>\n",
       "    <tr>\n",
       "        <td>24</td>\n",
       "        <td>Battlestar Galactica (Classic), Season 1</td>\n",
       "        <td>Battlestar Galactica (Classic)</td>\n",
       "        <td>TV Shows</td>\n",
       "    </tr>\n",
       "    <tr>\n",
       "        <td>24</td>\n",
       "        <td>Lost, Season 1</td>\n",
       "        <td>Lost</td>\n",
       "        <td>TV Shows</td>\n",
       "    </tr>\n",
       "    <tr>\n",
       "        <td>24</td>\n",
       "        <td>Lost, Season 2</td>\n",
       "        <td>Lost</td>\n",
       "        <td>TV Shows</td>\n",
       "    </tr>\n",
       "    <tr>\n",
       "        <td>24</td>\n",
       "        <td>The Office, Season 3</td>\n",
       "        <td>The Office</td>\n",
       "        <td>TV Shows</td>\n",
       "    </tr>\n",
       "    <tr>\n",
       "        <td>22</td>\n",
       "        <td>Up An&#x27; Atom</td>\n",
       "        <td>Gene Krupa</td>\n",
       "        <td>Music</td>\n",
       "    </tr>\n",
       "    <tr>\n",
       "        <td>22</td>\n",
       "        <td>Heroes, Season 1</td>\n",
       "        <td>Heroes</td>\n",
       "        <td>TV Shows</td>\n",
       "    </tr>\n",
       "    <tr>\n",
       "        <td>22</td>\n",
       "        <td>The Office, Season 2</td>\n",
       "        <td>The Office</td>\n",
       "        <td>TV Shows</td>\n",
       "    </tr>\n",
       "</table>"
      ],
      "text/plain": [
       "[(33, 'Greatest Hits', 'Lenny Kravitz', 'Music'),\n",
       " (25, 'Minha Historia', 'Chico Buarque', 'Music'),\n",
       " (25, 'Lost, Season 3', 'Lost', 'TV Shows'),\n",
       " (24, 'Battlestar Galactica (Classic), Season 1', 'Battlestar Galactica (Classic)', 'TV Shows'),\n",
       " (24, 'Lost, Season 1', 'Lost', 'TV Shows'),\n",
       " (24, 'Lost, Season 2', 'Lost', 'TV Shows'),\n",
       " (24, 'The Office, Season 3', 'The Office', 'TV Shows'),\n",
       " (22, \"Up An' Atom\", 'Gene Krupa', 'Music'),\n",
       " (22, 'Heroes, Season 1', 'Heroes', 'TV Shows'),\n",
       " (22, 'The Office, Season 2', 'The Office', 'TV Shows')]"
      ]
     },
     "execution_count": 74,
     "metadata": {},
     "output_type": "execute_result"
    }
   ],
   "source": [
    "%%sql\n",
    "\n",
    "WITH notracks AS\n",
    "    (\n",
    "     SELECT\n",
    "     CASE WHEN il.track_id = t.track_id THEN 'yes' \n",
    "     ELSE 'no'\n",
    "     END AS track_purchased,\n",
    "     *\n",
    "FROM track t\n",
    "LEFT JOIN invoice_line il ON il.track_id = t.track_id\n",
    "    )\n",
    "\n",
    "SELECT\n",
    "       COUNT(DISTINCT nt.name) num_tracks, \n",
    "       a.title album, \n",
    "       ar.name artist,\n",
    "       p.name playlist\n",
    "       FROM notracks nt\n",
    "INNER JOIN album a ON a.album_id = nt.album_id\n",
    "INNER JOIN artist ar ON ar.artist_id = a.artist_id\n",
    "INNER JOIN playlist_track pt ON pt.track_id = nt.track_id\n",
    "INNER JOIN playlist p ON p.playlist_id = pt.playlist_id\n",
    "INNER JOIN genre g ON g.genre_id = nt.genre_id\n",
    "WHERE track_purchased = 'no'\n",
    "GROUP BY playlist,album\n",
    "ORDER BY num_tracks DESC\n",
    "LIMIT 10; \n",
    "\n",
    " "
   ]
  },
  {
   "cell_type": "code",
   "execution_count": 75,
   "metadata": {
    "collapsed": false
   },
   "outputs": [
    {
     "name": "stdout",
     "output_type": "stream",
     "text": [
      "Done.\n"
     ]
    },
    {
     "data": {
      "text/html": [
       "<table>\n",
       "    <tr>\n",
       "        <th>playlist</th>\n",
       "        <th>total_tracks</th>\n",
       "        <th>percent_of_total</th>\n",
       "    </tr>\n",
       "    <tr>\n",
       "        <td>TV Shows</td>\n",
       "        <td>165</td>\n",
       "        <td>0.67</td>\n",
       "    </tr>\n",
       "    <tr>\n",
       "        <td>Music</td>\n",
       "        <td>80</td>\n",
       "        <td>0.33</td>\n",
       "    </tr>\n",
       "</table>"
      ],
      "text/plain": [
       "[('TV Shows', 165, 0.67), ('Music', 80, 0.33)]"
      ]
     },
     "execution_count": 75,
     "metadata": {},
     "output_type": "execute_result"
    }
   ],
   "source": [
    "%%sql\n",
    "\n",
    "\n",
    "WITH notracks AS\n",
    "    (\n",
    "     SELECT\n",
    "     CASE WHEN il.track_id = t.track_id THEN 'yes' \n",
    "     ELSE 'no'\n",
    "     END AS track_purchased,\n",
    "     *\n",
    "FROM track t\n",
    "LEFT JOIN invoice_line il ON il.track_id = t.track_id\n",
    "),\n",
    "\n",
    "    playlist_freq AS\n",
    "\n",
    "(\n",
    "    SELECT\n",
    "       g.name genre,\n",
    "       a.album_id,COUNT(DISTINCT nt.name) num_tracks, \n",
    "       a.title album, \n",
    "       ar.name artist,\n",
    "       p.name playlist \n",
    "       FROM notracks nt\n",
    "INNER JOIN album a ON a.album_id = nt.album_id\n",
    "INNER JOIN artist ar ON ar.artist_id = a.artist_id\n",
    "INNER JOIN playlist_track pt ON pt.track_id = nt.track_id\n",
    "INNER JOIN playlist p ON p.playlist_id = pt.playlist_id\n",
    "INNER JOIN genre g ON g.genre_id = nt.genre_id\n",
    "WHERE track_purchased = 'no'\n",
    "GROUP BY playlist,album\n",
    "ORDER BY num_tracks DESC\n",
    "LIMIT 10\n",
    "\n",
    ")\n",
    "\n",
    "SELECT playlist,\n",
    "       SUM(num_tracks) total_tracks,\n",
    "       ROUND(CAST(SUM(num_tracks) AS FLOAT)/\n",
    "       (SELECT SUM(num_tracks) FROM playlist_freq),2) percent_of_total\n",
    "FROM playlist_freq\n",
    "GROUP BY playlist\n",
    "ORDER BY total_tracks DESC\n",
    "\n"
   ]
  },
  {
   "cell_type": "markdown",
   "metadata": {},
   "source": [
    "Of the top 10 non-purchased tracks based on their frequency in appearing on playlists, 7 are from the TV Show playlist category (including well known TV series such as Lost, The Office, etc.). As a percent of the total number of unpurchased tracks in the top 10, TV Shows make up about 67% of the total, which indicates that the decision making with regards to purchasing tracks belonging to the TV Show category for Chinook should be re-evaluated."
   ]
  },
  {
   "cell_type": "markdown",
   "metadata": {},
   "source": [
    "# Track Sales & Popularity"
   ]
  },
  {
   "cell_type": "code",
   "execution_count": 76,
   "metadata": {
    "collapsed": false
   },
   "outputs": [
    {
     "name": "stdout",
     "output_type": "stream",
     "text": [
      "Done.\n"
     ]
    },
    {
     "data": {
      "text/html": [
       "<table>\n",
       "    <tr>\n",
       "        <th>track_frequency</th>\n",
       "        <th>track</th>\n",
       "        <th>album</th>\n",
       "        <th>artist</th>\n",
       "        <th>total_sales</th>\n",
       "    </tr>\n",
       "    <tr>\n",
       "        <td>33</td>\n",
       "        <td>War Pigs</td>\n",
       "        <td>Cake: B-Sides and Rarities</td>\n",
       "        <td>Cake</td>\n",
       "        <td>246.51</td>\n",
       "    </tr>\n",
       "    <tr>\n",
       "        <td>13</td>\n",
       "        <td>Hey Joe</td>\n",
       "        <td>Are You Experienced?</td>\n",
       "        <td>Jimi Hendrix</td>\n",
       "        <td>177.21</td>\n",
       "    </tr>\n",
       "    <tr>\n",
       "        <td>14</td>\n",
       "        <td>Are You Experienced?</td>\n",
       "        <td>Are You Experienced?</td>\n",
       "        <td>Jimi Hendrix</td>\n",
       "        <td>175.23</td>\n",
       "    </tr>\n",
       "    <tr>\n",
       "        <td>13</td>\n",
       "        <td>Third Stone From The Sun</td>\n",
       "        <td>Are You Experienced?</td>\n",
       "        <td>Jimi Hendrix</td>\n",
       "        <td>171.27</td>\n",
       "    </tr>\n",
       "    <tr>\n",
       "        <td>14</td>\n",
       "        <td>Highway Chile</td>\n",
       "        <td>Are You Experienced?</td>\n",
       "        <td>Jimi Hendrix</td>\n",
       "        <td>169.29</td>\n",
       "    </tr>\n",
       "    <tr>\n",
       "        <td>11</td>\n",
       "        <td>Foxy Lady</td>\n",
       "        <td>Are You Experienced?</td>\n",
       "        <td>Jimi Hendrix</td>\n",
       "        <td>164.34</td>\n",
       "    </tr>\n",
       "    <tr>\n",
       "        <td>11</td>\n",
       "        <td>Remember</td>\n",
       "        <td>Are You Experienced?</td>\n",
       "        <td>Jimi Hendrix</td>\n",
       "        <td>158.4</td>\n",
       "    </tr>\n",
       "    <tr>\n",
       "        <td>11</td>\n",
       "        <td>May This Be Love</td>\n",
       "        <td>Are You Experienced?</td>\n",
       "        <td>Jimi Hendrix</td>\n",
       "        <td>157.41</td>\n",
       "    </tr>\n",
       "    <tr>\n",
       "        <td>12</td>\n",
       "        <td>Love Or Confusion</td>\n",
       "        <td>Are You Experienced?</td>\n",
       "        <td>Jimi Hendrix</td>\n",
       "        <td>150.48</td>\n",
       "    </tr>\n",
       "    <tr>\n",
       "        <td>10</td>\n",
       "        <td>Purple Haze</td>\n",
       "        <td>Are You Experienced?</td>\n",
       "        <td>Jimi Hendrix</td>\n",
       "        <td>148.5</td>\n",
       "    </tr>\n",
       "</table>"
      ],
      "text/plain": [
       "[(33, 'War Pigs', 'Cake: B-Sides and Rarities', 'Cake', 246.51),\n",
       " (13, 'Hey Joe', 'Are You Experienced?', 'Jimi Hendrix', 177.21),\n",
       " (14, 'Are You Experienced?', 'Are You Experienced?', 'Jimi Hendrix', 175.23),\n",
       " (13, 'Third Stone From The Sun', 'Are You Experienced?', 'Jimi Hendrix', 171.27),\n",
       " (14, 'Highway Chile', 'Are You Experienced?', 'Jimi Hendrix', 169.29),\n",
       " (11, 'Foxy Lady', 'Are You Experienced?', 'Jimi Hendrix', 164.34),\n",
       " (11, 'Remember', 'Are You Experienced?', 'Jimi Hendrix', 158.4),\n",
       " (11, 'May This Be Love', 'Are You Experienced?', 'Jimi Hendrix', 157.41),\n",
       " (12, 'Love Or Confusion', 'Are You Experienced?', 'Jimi Hendrix', 150.48),\n",
       " (10, 'Purple Haze', 'Are You Experienced?', 'Jimi Hendrix', 148.5)]"
      ]
     },
     "execution_count": 76,
     "metadata": {},
     "output_type": "execute_result"
    }
   ],
   "source": [
    "%%sql\n",
    "\n",
    "WITH track_select AS\n",
    "    (\n",
    "     SELECT il.track_id track_id,\n",
    "            *  \n",
    "            FROM invoice i\n",
    "     INNER JOIN invoice_line il ON il.invoice_id = i.invoice_id\n",
    "     INNER JOIN track t ON t.track_id = il.track_id\n",
    "    )\n",
    "\n",
    "SELECT \n",
    "    COUNT(ts.track_id) track_frequency,\n",
    "    ts.name track, \n",
    "    a.title album, \n",
    "    ar.name artist,\n",
    "    ROUND(SUM(ts.total),2) \n",
    "    total_sales FROM track_select ts\n",
    "INNER JOIN album a ON a.album_id = ts.album_id\n",
    "INNER JOIN artist ar ON ar.artist_id = a.artist_id\n",
    "GROUP BY ts.name\n",
    "ORDER BY total_sales DESC\n",
    "LIMIT 10"
   ]
  },
  {
   "cell_type": "markdown",
   "metadata": {},
   "source": [
    "From looking at the tracks that have sold the most, we can see that Jimi Hendrix's album 'Are You Experienced?' has 9 of the top 10 tracks sold at Chinook."
   ]
  },
  {
   "cell_type": "markdown",
   "metadata": {},
   "source": [
    "# Protected vs Non-protected Media Types"
   ]
  },
  {
   "cell_type": "code",
   "execution_count": 77,
   "metadata": {
    "collapsed": false
   },
   "outputs": [
    {
     "name": "stdout",
     "output_type": "stream",
     "text": [
      "Done.\n"
     ]
    },
    {
     "data": {
      "text/html": [
       "<table>\n",
       "    <tr>\n",
       "        <th>mediatype</th>\n",
       "        <th>total_sales</th>\n",
       "        <th>percent_of_sales</th>\n",
       "    </tr>\n",
       "    <tr>\n",
       "        <td>MPEG audio file</td>\n",
       "        <td>42934.32</td>\n",
       "        <td>90.38</td>\n",
       "    </tr>\n",
       "    <tr>\n",
       "        <td>Protected AAC audio file</td>\n",
       "        <td>4115.43</td>\n",
       "        <td>8.66</td>\n",
       "    </tr>\n",
       "    <tr>\n",
       "        <td>Purchased AAC audio file</td>\n",
       "        <td>274.23</td>\n",
       "        <td>0.58</td>\n",
       "    </tr>\n",
       "    <tr>\n",
       "        <td>AAC audio file</td>\n",
       "        <td>153.45</td>\n",
       "        <td>0.32</td>\n",
       "    </tr>\n",
       "    <tr>\n",
       "        <td>Protected MPEG-4 video file</td>\n",
       "        <td>25.74</td>\n",
       "        <td>0.05</td>\n",
       "    </tr>\n",
       "</table>"
      ],
      "text/plain": [
       "[('MPEG audio file', 42934.32, 90.38),\n",
       " ('Protected AAC audio file', 4115.43, 8.66),\n",
       " ('Purchased AAC audio file', 274.23, 0.58),\n",
       " ('AAC audio file', 153.45, 0.32),\n",
       " ('Protected MPEG-4 video file', 25.74, 0.05)]"
      ]
     },
     "execution_count": 77,
     "metadata": {},
     "output_type": "execute_result"
    }
   ],
   "source": [
    "%%sql\n",
    "\n",
    "WITH mediatypesales AS \n",
    "    (\n",
    "     SELECT *,mt.name mediatype FROM track t\n",
    "     INNER JOIN media_type mt ON mt.media_type_id = t.media_type_id\n",
    "     INNER JOIN invoice_line il ON il.track_id = t.track_id\n",
    "     INNER JOIN invoice i ON i.invoice_id = il.invoice_id\n",
    "    )\n",
    "\n",
    "SELECT \n",
    "mediatype,\n",
    "ROUND(SUM(mts.total),2) total_sales,\n",
    "ROUND((SUM(mts.total))/\n",
    "      (SELECT SUM(mts.total) \n",
    "       FROM mediatypesales mts)*100,2) \n",
    "       percent_of_sales\n",
    "FROM mediatypesales mts\n",
    "GROUP BY mediatype\n",
    "ORDER BY total_sales DESC"
   ]
  },
  {
   "cell_type": "markdown",
   "metadata": {},
   "source": [
    "From looking at the sales by media type, we can see that MPEG audio files are the most popular, with a whopping 90.38% of total sales! This makes sense, as MPEG audio files are one of the most popular lossless compression audio file types, as they have been a standard since the 90s, and are supported by a wide variety of products and technologies. "
   ]
  },
  {
   "cell_type": "markdown",
   "metadata": {},
   "source": [
    "# Conclusion"
   ]
  },
  {
   "cell_type": "markdown",
   "metadata": {},
   "source": [
    "From our SQL analysis of the Chinook digital record store, we can conclude that:\n",
    "\n",
    "* Rock, Alternative Punk, and Metal are the three most popular genres of music from the tracks/albums sold at Chinook\n",
    "\n",
    "* The U.S.A, Canada, and Brazil constitute the three countries with the most record sales, with the Czech Republic looking to being a promising source of revenue.\n",
    "\n",
    "* Most of the purchases at Chinook are individual track purchases, and not full albums\n",
    "\n",
    "* 2 of the 3 most popular artists (Iron Maiden and Metallica) by playlist appearances (# of times a track  by an artist is included on a playlist) are from the Metal genre\n",
    "\n",
    "* The most popular artist by total sales is Jimi Hendrix, as 9 out of the top 10  highest selling tracks are from his album, 'Are You Experienced?'\n",
    "\n",
    "* Of the top 10 tracks (by frequency) at Chinook that were never sold, most are video/audio files of popular TV Shows, indicating some need for change in decision making with regards to purchasing those type of tracks for Chinook  \n",
    "\n",
    "* MPEG audio files are the most popular form of audio file that customers prefer to purchase their music\n",
    "\n",
    "Hopefully, these insights will allow Chinook to take the necessary next steps in ensuring their record store can improve in their overall business strategy.\n"
   ]
  }
 ],
 "metadata": {
  "kernelspec": {
   "display_name": "Python 3",
   "language": "python",
   "name": "python3"
  },
  "language_info": {
   "codemirror_mode": {
    "name": "ipython",
    "version": 3
   },
   "file_extension": ".py",
   "mimetype": "text/x-python",
   "name": "python",
   "nbconvert_exporter": "python",
   "pygments_lexer": "ipython3",
   "version": "3.4.3"
  }
 },
 "nbformat": 4,
 "nbformat_minor": 2
}
